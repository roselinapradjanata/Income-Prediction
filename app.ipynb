{
 "cells": [
  {
   "cell_type": "code",
   "execution_count": null,
   "metadata": {},
   "outputs": [
    {
     "name": "stderr",
     "output_type": "stream",
     "text": [
      " * Running on http://127.0.0.1:5000/ (Press CTRL+C to quit)\n",
      "127.0.0.1 - - [28/Nov/2017 18:09:01] \"POST / HTTP/1.1\" 200 -\n",
      "127.0.0.1 - - [28/Nov/2017 18:10:18] \"POST / HTTP/1.1\" 200 -\n"
     ]
    }
   ],
   "source": [
    "import pickle\n",
    "import numpy as np\n",
    "from flask import Flask, render_template, request\n",
    "app = Flask(__name__, template_folder='templates', static_folder='static')\n",
    "\n",
    "default = [36, 'Private', 'HS-grad', 'Married-civ-spouse', 'Prof-specialty', 'Husband', 'White', 'Male', 0, 0, 40, 'United-States']\n",
    "\n",
    "def mapInput(arrinput):\n",
    "    arrstring = ['Private, Self-emp-not-inc, Self-emp-inc, Federal-gov, Local-gov, State-gov, Without-pay, Never-worked',\n",
    "     'Bachelors, Some-college, 11th, HS-grad, Prof-school, Assoc-acdm, Assoc-voc, 9th, 7th-8th, 12th, Masters, 1st-4th, 10th, Doctorate, 5th-6th, Preschool',\n",
    "     'Married-civ-spouse, Divorced, Never-married, Separated, Widowed, Married-spouse-absent, Married-AF-spouse',\n",
    "     'Tech-support, Craft-repair, Other-service, Sales, Exec-managerial, Prof-specialty, Handlers-cleaners, Machine-op-inspct, Adm-clerical, Farming-fishing, Transport-moving, Priv-house-serv, Protective-serv, Armed-Forces',\n",
    "     'Wife, Own-child, Husband, Not-in-family, Other-relative, Unmarried',\n",
    "     'White, Asian-Pac-Islander, Amer-Indian-Eskimo, Other, Black',\n",
    "     'Female, Male',\n",
    "     'United-States, Cambodia, England, Puerto-Rico, Canada, Germany, Outlying-US(Guam-USVI-etc), India, Japan, Greece, South, China, Cuba, Iran, Honduras, Philippines, Italy, Poland, Jamaica, Vietnam, Mexico, Portugal, Ireland, France, Dominican-Republic, Laos, Ecuador, Taiwan, Haiti, Columbia, Hungary, Guatemala, Nicaragua, Scotland, Thailand, Yugoslavia, El-Salvador, Trinadad&Tobago, Peru, Hong, Holand-Netherlands']\n",
    "    mapcol = [1, 2, 3, 4, 5, 6, 7, 11]\n",
    "    j = 0\n",
    "    for string in arrstring:\n",
    "        arr = [x.strip() for x in string.split(',')]\n",
    "        mapping = {}\n",
    "        for i in range(0, len(arr)):\n",
    "            mapping[arr[i]] = i\n",
    "        if arrinput[mapcol[j]] in mapping:\n",
    "            arrinput[mapcol[j]] = mapping[arrinput[mapcol[j]]]\n",
    "        else:\n",
    "            arrinput[mapcol[j]] = mapping[default[mapcol[j]]]\n",
    "        j += 1\n",
    "    numcol = [0, 8, 9, 10]\n",
    "    for i in range(0, len(numcol)):\n",
    "        if not arrinput[numcol[i]]:\n",
    "            arrinput[numcol[i]] = default[numcol[i]]\n",
    "    return arrinput\n",
    "\n",
    "def predictIncome(arrinput):\n",
    "    filename = 'saved_model.sav'\n",
    "    model = pickle.load(open(filename, 'rb'))\n",
    "    arrinput = mapInput(arrinput)\n",
    "    nparr = np.array([arrinput])\n",
    "    predict = model.predict(nparr)\n",
    "    predict = predict.tolist()\n",
    "    resmap = {0: '>50K', 1: '<=50K'}\n",
    "    return resmap[predict[0]]\n",
    "\n",
    "@app.route(\"/\", methods=['GET', 'POST'])\n",
    "def main():\n",
    "    if request.method == 'POST':\n",
    "        arr = [request.form.get('age'), request.form.get('workclass'), request.form.get('education'), request.form.get('marital-status'), request.form.get('occupation'), request.form.get('relationship'), request.form.get('race'), request.form.get('sex'), request.form.get('capital-gain'), request.form.get('capital-loss'), request.form.get('hours-per-week'), request.form.get('native-country')]\n",
    "        result = predictIncome(arr)\n",
    "        return render_template('AI.html', result=result)\n",
    "    return render_template('AI.html')\n",
    "\n",
    "if __name__ == \"__main__\":\n",
    "    app.run()"
   ]
  },
  {
   "cell_type": "code",
   "execution_count": null,
   "metadata": {
    "collapsed": true
   },
   "outputs": [],
   "source": []
  }
 ],
 "metadata": {
  "kernelspec": {
   "display_name": "Python 3",
   "language": "python",
   "name": "python3"
  },
  "language_info": {
   "codemirror_mode": {
    "name": "ipython",
    "version": 3
   },
   "file_extension": ".py",
   "mimetype": "text/x-python",
   "name": "python",
   "nbconvert_exporter": "python",
   "pygments_lexer": "ipython3",
   "version": "3.6.3"
  }
 },
 "nbformat": 4,
 "nbformat_minor": 2
}
